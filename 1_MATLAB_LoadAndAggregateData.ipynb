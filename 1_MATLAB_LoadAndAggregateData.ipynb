{
 "cells": [
  {
   "cell_type": "markdown",
   "metadata": {},
   "source": [
    "# 1. Preliminaries\n",
    "for each subject, we have a directory with multiple `.mat` files stored. All subject folders are stored in folder named `'logs'`. Output of the code in this notebook will be stored to the directory specified in the variabel `outputdir` which is `'outputs'` by default."
   ]
  },
  {
   "cell_type": "code",
   "execution_count": 1,
   "metadata": {
    "collapsed": false
   },
   "outputs": [],
   "source": [
    "clear\n",
    "logdir = 'logs';\n",
    "outputdir = 'outputs';\n",
    "p_w_d  = pwd;"
   ]
  },
  {
   "cell_type": "markdown",
   "metadata": {},
   "source": [
    "Besides the code in these jupyter notebooks, there are some custom helper functions provided in this repository. These functions are stored in a folder named 'helperFunctions', which we need to add to the path:"
   ]
  },
  {
   "cell_type": "code",
   "execution_count": 2,
   "metadata": {
    "collapsed": true
   },
   "outputs": [],
   "source": [
    "addpath('helperFunctions')"
   ]
  },
  {
   "cell_type": "markdown",
   "metadata": {},
   "source": [
    "We use the Palamedes Toolbox not only to for adaptive algorithms during data collection, but also to fit psychometric curves to the data as e.g. in Figure 3.\n",
    "\n",
    "Prins, N & Kingdom, F. A. A. (2009) Palamedes:  Matlab routines for analyzing psychophysical data. http://www.palamedestoolbox.org \n",
    "\n",
    "We used version 1.5.0 but more recent version should work as well. Once downloaded to your machine trom, add the function to the matlab path as well."
   ]
  },
  {
   "cell_type": "code",
   "execution_count": 3,
   "metadata": {
    "collapsed": false
   },
   "outputs": [],
   "source": [
    "% palamedespath = ['Path' filesep 'to' filesep 'Palamedes'];\n",
    "% e.g.: \n",
    "palamedespath = '/Users/treber/projects/matlab_common/palamedes1_5_0/Palamedes'; \n",
    "addpath(palamedespath)"
   ]
  },
  {
   "cell_type": "markdown",
   "metadata": {},
   "source": [
    "A Reviewer asked to compute d' with corrected Hits and False ass suggested in \n",
    "\n",
    "Snodgrass, Joan G., and June Corwin. “Pragmatics of Measuring Recognition Memory: Applications to Dementia and Amnesia.” Journal of Experimental Psychology: General 117, no. 1 (1988): 34.\n",
    "\n",
    "This can be done by setting `hfa_correction = 'snodgrass&corwin1988'`.  \n",
    "By default `'hfa_correction'` is set to `'regular'`, which results in replacing hits and false alarm rates of exactly zero or one to 0.01 and 0.99 respectively.\n"
   ]
  },
  {
   "cell_type": "code",
   "execution_count": 4,
   "metadata": {
    "collapsed": true
   },
   "outputs": [],
   "source": [
    "hfacorrection = 'regular';\n",
    "%hfacorrection = 'snodgrass&corwin1988';"
   ]
  },
  {
   "cell_type": "markdown",
   "metadata": {},
   "source": [
    "# 2. Load Data in Workspace\n",
    "In this part, we use some of these helper functions to aggregate the data from different parts of the experiment and from different subject.\n",
    "### 2.1 Proportion of GO responses in the conditioning part\n",
    "Calling `sc_average_p_go.m` returns `p_go`, a matrix of $N_{S} \\times N_{V} \\times N_{R}$, where $N_{s}$ is the number of participants, $N_{V}$ the number of visibility levels, i.e., runs in the conditioning experiment, and $N_{R}$ the reward levels, i.e., 'rewarding cue'(1) or 'punishing cue'(2). Thus, by `p_go(3,2,1)` we access the proportion of go responses in the third participant in the second run (@th) following the rewarding cue.\n",
    "\n",
    "It also returns the mean and it standard error of the proportion of go responses for each of the four runs (`p_go_avg` and `p_go_sem`)."
   ]
  },
  {
   "cell_type": "code",
   "execution_count": 5,
   "metadata": {
    "collapsed": false
   },
   "outputs": [],
   "source": [
    "[p_go_avg p_go_sem p_go]=sc_average_p_go(logdir, 0,hfacorrection);"
   ]
  },
  {
   "cell_type": "markdown",
   "metadata": {},
   "source": [
    "### 2.2. Data from individual trials of conditioning part\n",
    "Calling `sc_aggregate_data.m` also gets data from all four runs of the conditionign experiment, but we get data from all trials of all subjects. Here, the data is stored in a cell array for each run."
   ]
  },
  {
   "cell_type": "code",
   "execution_count": 6,
   "metadata": {
    "collapsed": false
   },
   "outputs": [],
   "source": [
    "conditioning = sc_aggregate_data(logdir);"
   ]
  },
  {
   "cell_type": "markdown",
   "metadata": {},
   "source": [
    "In each entry of this cell array, there is a struct with different variables recorded by psychtoolbox. Lets have a look at variables stored during the first run (which are identical to runs 2 to 4)."
   ]
  },
  {
   "cell_type": "code",
   "execution_count": 7,
   "metadata": {
    "collapsed": false
   },
   "outputs": [
    {
     "name": "stdout",
     "output_type": "stream",
     "text": [
      "\n",
      "ans =\n",
      "\n",
      "  24×1 cell array\n",
      "\n",
      "    'condition'\n",
      "    'threshold'\n",
      "    'subject'\n",
      "    'run'\n",
      "    'th'\n",
      "    'reward'\n",
      "    'money'\n",
      "    'gain'\n",
      "    'initial_reward'\n",
      "    'stim'\n",
      "    'stim_event'\n",
      "    'trial_onset'\n",
      "    'forward_mask_onset'\n",
      "    'stimulus_onset'\n",
      "    'backward_mask_onset'\n",
      "    'blank_onset'\n",
      "    'go_nogo_screen_onset'\n",
      "    'go_rt'\n",
      "    'go_response'\n",
      "    'go_response_time'\n",
      "    'go_choice_feedback_screen_onset'\n",
      "    'rewarding_feedback_screen_onset'\n",
      "    'nogo_choice_feedback_screen_onset'\n",
      "    'neutral_feedback_screen_onset'\n",
      "\n"
     ]
    }
   ],
   "source": [
    "run = 1;\n",
    "fieldnames(conditioning{run})"
   ]
  },
  {
   "cell_type": "markdown",
   "metadata": {},
   "source": [
    "each of these variables is of size $N_{S} \\times N_{T}$, where $N_{s}$ is the number of participants, $N_{T}$ is the number of trials."
   ]
  },
  {
   "cell_type": "code",
   "execution_count": 8,
   "metadata": {
    "collapsed": false
   },
   "outputs": [
    {
     "name": "stdout",
     "output_type": "stream",
     "text": [
      "\n",
      "nsubs =\n",
      "\n",
      "    29\n",
      "\n",
      "\n",
      "ntrials =\n",
      "\n",
      "    16\n",
      "\n"
     ]
    }
   ],
   "source": [
    "[nsubs, ntrials] = size(conditioning{run}.condition)"
   ]
  },
  {
   "cell_type": "markdown",
   "metadata": {},
   "source": [
    "### 2.3. Data from the subjective visibility ratings performed after each run of the conditioning experiment.\n",
    "Lets aggreagate subjective visibility ratings by using `sc_aggergate_inverview_data.m`:"
   ]
  },
  {
   "cell_type": "code",
   "execution_count": 9,
   "metadata": {
    "collapsed": false
   },
   "outputs": [
    {
     "name": "stdout",
     "output_type": "stream",
     "text": [
      "Warning: No interview data found  in  sc13 !\n",
      "> In sc_aggregate_interview_data (line 29)\n",
      "Warning: No interview data found  in  sc15 !\n",
      "> In sc_aggregate_interview_data (line 29)\n"
     ]
    }
   ],
   "source": [
    "interviews = sc_aggregate_interview_data(logdir);"
   ]
  },
  {
   "cell_type": "markdown",
   "metadata": {},
   "source": [
    "The warning messages reminds us that, interview data was lost for two subjects. \n",
    "\n",
    "The follwoing demonstrates how subjective awareness ratings can be accessed:"
   ]
  },
  {
   "cell_type": "code",
   "execution_count": 10,
   "metadata": {
    "collapsed": false
   },
   "outputs": [
    {
     "name": "stdout",
     "output_type": "stream",
     "text": [
      "Partcipant #12 reported having seen the cue in 70% of the trials during run 2\n"
     ]
    }
   ],
   "source": [
    "subject = 12;\n",
    "run = 2;\n",
    "\n",
    "disp(sprintf('Partcipant #%d reported having seen the cue in %.0f%% of the trials during run %d', ...\n",
    "subject, interviews{subject}.awareness_rating(run)*10, run))"
   ]
  },
  {
   "cell_type": "markdown",
   "metadata": {},
   "source": [
    "### 2.4. Data from the threshold estimation procedures preceding and following the conditioning part.\n",
    "Lets aggreagate these data by using `sc_aggregate_th_data.m`:"
   ]
  },
  {
   "cell_type": "code",
   "execution_count": 11,
   "metadata": {
    "collapsed": false
   },
   "outputs": [],
   "source": [
    "[th1 th2] = sc_aggregate_th_data(logdir);"
   ]
  },
  {
   "cell_type": "markdown",
   "metadata": {},
   "source": [
    "Similar to single-trial data in the conditiong part above, data is stored in a struct, where ech field in the struct is matrix of size $N_{S} \\times N_{T}$, where $N_{s}$ is the number of participants, $N_{T}$ is the number of trials."
   ]
  },
  {
   "cell_type": "code",
   "execution_count": 12,
   "metadata": {
    "collapsed": false
   },
   "outputs": [
    {
     "name": "stdout",
     "output_type": "stream",
     "text": [
      "\n",
      "ans =\n",
      "\n",
      "  25×1 cell array\n",
      "\n",
      "    'trial_onset'\n",
      "    'forward_mask_onset'\n",
      "    'stimulus_onset'\n",
      "    'backward_mask_onset'\n",
      "    'blank_onset'\n",
      "    'stimulus_choice_onset'\n",
      "    'stim_choice_rt'\n",
      "    'stim_choice_button'\n",
      "    'chosen_stimulus'\n",
      "    'chosen_stim_str'\n",
      "    'correct'\n",
      "    'seen_decision_onset'\n",
      "    'seen_decision_response'\n",
      "    'seen_decision_rt'\n",
      "    'seen'\n",
      "    'stim_nr'\n",
      "    'stim_event'\n",
      "    'noise_variance'\n",
      "    'th'\n",
      "    'subject'\n",
      "    'run'\n",
      "    'seen_button'\n",
      "    'unseen_button'\n",
      "    'presented_stim_str'\n",
      "    'elapsed_time'\n",
      "\n",
      "\n",
      "nsubs =\n",
      "\n",
      "    29\n",
      "\n",
      "\n",
      "ntrials =\n",
      "\n",
      "   192\n",
      "\n"
     ]
    }
   ],
   "source": [
    "fieldnames(th1)\n",
    "[nsubs, ntrials] = size(th1.correct)"
   ]
  },
  {
   "cell_type": "markdown",
   "metadata": {},
   "source": [
    "Visibility of masked images in the experiment was varied by adding noise. The amount of noise is given by the variance of the noise distirbution we can vary from 0, i.e., no nose to 2.5 (maximum noise level). Thus more noise means less visible and vice versa. But we prefer to think in terms of stimulus intensity. Therefore, we compute 2.5 - noise variance, to quantifiy the visibility of a stimulus."
   ]
  },
  {
   "cell_type": "code",
   "execution_count": 13,
   "metadata": {
    "collapsed": false
   },
   "outputs": [],
   "source": [
    "th1 = sc_reverse_noise_variance(th1);\n",
    "th2 = sc_reverse_noise_variance(th2);"
   ]
  },
  {
   "cell_type": "markdown",
   "metadata": {},
   "source": [
    "### 2.5 Get d primes during pre and post threshold tests\n",
    "We use the helper funtion `sc_get_d_primes.m`, which loads data, and calls `dprime.m`. Data is returned in array of $N$ subjects (1 to 29) $\\times$ $N$ threshold tests (pre, post) $\\times$ $N$ visibility levels (1 to 4) $\\times$ $N$ stimuli (1 to 6)."
   ]
  },
  {
   "cell_type": "code",
   "execution_count": 14,
   "metadata": {
    "collapsed": false
   },
   "outputs": [
    {
     "name": "stdout",
     "output_type": "stream",
     "text": [
      "\n",
      "nsubs =\n",
      "\n",
      "    29\n",
      "\n",
      "\n",
      "nthtests =\n",
      "\n",
      "     2\n",
      "\n",
      "\n",
      "nlevels =\n",
      "\n",
      "     4\n",
      "\n",
      "\n",
      "nstimuli =\n",
      "\n",
      "     6\n",
      "\n"
     ]
    }
   ],
   "source": [
    "[th_test_dprimes stimlookup]= sc_get_d_primes(logdir, hfacorrection);\n",
    "%th_test_dprimes(subject,th-test 1vs2, run, stimulus)\n",
    "[nsubs, nthtests, nlevels, nstimuli] = size(th_test_dprimes)"
   ]
  },
  {
   "cell_type": "markdown",
   "metadata": {},
   "source": [
    "### 2.6 Aggregate Data on the level of individual stimuli\n",
    "This form of the data will be used for plots in Figure 3."
   ]
  },
  {
   "cell_type": "code",
   "execution_count": 15,
   "metadata": {
    "collapsed": false
   },
   "outputs": [
    {
     "name": "stdout",
     "output_type": "stream",
     "text": [
      "\n",
      "perstim = \n",
      "\n",
      "  8×4 struct array with fields:\n",
      "\n",
      "    name\n",
      "    correct_pre\n",
      "    correct_r\n",
      "    correct_p\n",
      "    intensity_pre\n",
      "    intensity_r\n",
      "    intensity_p\n",
      "    subj_r\n",
      "    subj_p\n",
      "    subj_pre\n",
      "\n"
     ]
    }
   ],
   "source": [
    "[perstim perstim_mean] = sc_aggregate_per_stimulus(conditioning, th1, th2);\n",
    "perstim"
   ]
  },
  {
   "cell_type": "markdown",
   "metadata": {},
   "source": [
    "# 3. Rearrange Data in \"long-format\"\n",
    "Most of the statistics reported in the manuscript have been calcualted using R. These analyses are documented in R jupyter notebook (`R_Analyses.ipynb`). Lets rearrange the data in a format R can access:"
   ]
  },
  {
   "cell_type": "code",
   "execution_count": 16,
   "metadata": {
    "collapsed": false
   },
   "outputs": [],
   "source": [
    "th_levels =         [2 1 0.5 0]; % >th, @th, <th, <<th\n",
    "visibility_levels = [4 3 2   1];\n",
    "runs =              [1 2 3   4];\n",
    "counter = 1; % line counter in output\n",
    "\n",
    "\n",
    "for s=1:nsubs\n",
    "    for run_ = runs\n",
    "        \n",
    "        visibility_ = visibility_levels(run_);\n",
    "        \n",
    "        is_ =find(th2.th(s,:) == th_levels(run_));\n",
    "        seen_unseen(counter) = sum(th2.seen(s,is_))/length(is_);\n",
    "        \n",
    "        % pgo\n",
    "        p_go_r(counter) = p_go(s,run_,1);\n",
    "        p_go_p(counter) = p_go(s,run_,2); \n",
    "        \n",
    "        % pgo d-prime\n",
    "        dprime_ = dprime(p_go_r(counter), p_go_p(counter));\n",
    "       \n",
    "        dprime_conditioning(counter) = dprime_;\n",
    "        subjective_awareness(counter) = interviews{s}.awareness_rating(run_);\n",
    "        \n",
    "        % get average dprime at th-level across stimuli\n",
    "        dprime_post_av(counter) = mean(th_test_dprimes(s,2,visibility_, :));\n",
    "        \n",
    "        % get rewarding/punishing stim \n",
    "        is = find(conditioning{run_}.condition(s,:) == 1);\n",
    "        stim_r{counter} = conditioning{run_}.stim{s,is(1)};\n",
    "        is = find(conditioning{run_}.condition(s,:) == 2);\n",
    "        stim_p{counter} = conditioning{run_}.stim{s,is(1)};\n",
    "        \n",
    "        if run_ > 1\n",
    "            % get th-test 2 dprimes for stimuli used in conditioning\n",
    "            is = find(strcmp(stim_r{counter}, stimlookup{s,2,:}));\n",
    "            dprime_post_r(counter) = th_test_dprimes(s,2,visibility_,is);\n",
    "            \n",
    "            is = find(strcmp(stim_p{counter}, stimlookup{s,2,:}));\n",
    "            dprime_post_p(counter) = th_test_dprimes(s,2,visibility_,is);\n",
    "            \n",
    "            % get alphas from th-test1, th-test2, separate for p and r\n",
    "            is = strcmp(stim_r{counter}, th1.presented_stim_str(s,:));            \n",
    "            alpha_pre_r(counter) = fit_curve(th1.intensity(s,is), ...\n",
    "                                             th1.correct(s,is));\n",
    "            \n",
    "            is = strcmp(stim_p{counter}, th1.presented_stim_str(s,:));            \n",
    "            alpha_pre_p(counter) = fit_curve(th1.intensity(s,is), ...\n",
    "                                             th1.correct(s,is));\n",
    "\n",
    "            is = strcmp(stim_r{counter}, th2.presented_stim_str(s,:));            \n",
    "            alpha_post_r(counter) = fit_curve(th2.intensity(s,is), ...\n",
    "                                             th2.correct(s,is));\n",
    "            \n",
    "            is = strcmp(stim_p{counter}, th1.presented_stim_str(s,:));            \n",
    "            alpha_post_p(counter) = fit_curve(th2.intensity(s,is), ...\n",
    "                                              th2.correct(s,is));\n",
    "\n",
    "        else % th-test was not performed for stimuli used in run 1 (>th)\n",
    "            dprime_post_p(counter) = NaN;\n",
    "            dprime_post_r(counter) = NaN;\n",
    "            alpha_pre_r(counter) = NaN;\n",
    "            alpha_pre_p(counter) = NaN;\n",
    "            alpha_post_r(counter) = NaN;\n",
    "            alpha_post_p(counter) = NaN;            \n",
    "        end\n",
    "                \n",
    "        % design vars, subject counter\n",
    "        S(counter) = s;\n",
    "        visibility(counter) = visibility_;\n",
    "        run(counter) = run_;\n",
    "        \n",
    "        switch(run_)\n",
    "          case 4 % > th\n",
    "            dummy1(counter) = 0;\n",
    "            dummy2(counter) = 0;\n",
    "            dummy3(counter) = 1;\n",
    "          case 3 % @ th\n",
    "            dummy1(counter) = 0;\n",
    "            dummy2(counter) = 1;\n",
    "            dummy3(counter) = 0;\n",
    "          case 2 % < th\n",
    "            dummy1(counter) = 1;\n",
    "            dummy2(counter) = 0;\n",
    "            dummy3(counter) = 0;\n",
    "          otherwise % <<th\n",
    "            dummy1(counter) = 0;\n",
    "            dummy2(counter) = 0;\n",
    "            dummy3(counter) = 0;\n",
    "        end\n",
    "                \n",
    "        counter = counter + 1;\n",
    "        \n",
    "    end\n",
    "end"
   ]
  },
  {
   "cell_type": "markdown",
   "metadata": {},
   "source": [
    "### Save Data for Further Processing"
   ]
  },
  {
   "cell_type": "code",
   "execution_count": 17,
   "metadata": {
    "collapsed": false
   },
   "outputs": [],
   "source": [
    "% change into output directory\n",
    "cd(outputdir);\n",
    "\n",
    "% save for later use in matlab\n",
    "visibility_string = {'well_below_th', 'below_th', 'at_th', 'above_th'};\n",
    "save (['sc_' hfacorrection '.mat'],'S', 'visibility', 'visibility_string', 'run', 'dummy1', 'dummy2', ...\n",
    "    'dummy3', 'p_go_r', 'p_go_p', 'dprime_conditioning', 'stim_r', ...\n",
    "    'stim_p', 'dprime_post_r', 'dprime_post_p', 'alpha_pre_r', 'alpha_pre_p',  ...\n",
    "    'alpha_post_r', 'alpha_post_p', 'dprime_post_av', 'subjective_awareness', ... \n",
    "    'th1', 'th2', 'perstim', 'perstim_mean', 'hfacorrection')\n",
    "\n",
    "% save for use with R\n",
    "\n",
    "d = ','; % delimiter\n",
    "filename =  ['sc_' hfacorrection, '.txt'];\n",
    "header = {'subject', ...\n",
    "          'visibility', ... % 1: low  4: high\n",
    "          'Visibility', .... % a string representation of the above \n",
    "          'run', ...\n",
    "          'belowth_vs_invisible', ...\n",
    "          'threshold_vs_invisible', ...\n",
    "          'visible_vs_invisble',...\n",
    "          'pGOr', ...\n",
    "          'pGOp', ...\n",
    "          'dprime_conditioning', ...\n",
    "          'stim_r', ...\n",
    "          'stim_p', ...\n",
    "          'd_post_r', ...\n",
    "          'd_post_p', ...\n",
    "          'alpha_pre_r', ...\n",
    "          'alpha_pre_p', ...\n",
    "          'alpha_post_r', ...\n",
    "          'alpha_post_p', ...\n",
    "          'dprime_post_av', ...\n",
    "          'subjective_awareness', ...\n",
    "          'seen_unseen';};\n",
    "\n",
    "format_string = ['%d' d ... % subject\n",
    "                 '%d' d ... % visibility numeric\n",
    "                 '%s' d ... % visibility string\n",
    "                 '%d' d ... % run\n",
    "                 '%d' d ... % dummy1 visiblity\n",
    "                 '%d' d ... % dummy2\n",
    "                 '%d' d ... % dummy3\n",
    "                 '%.3f' d ... % pGO r\n",
    "                 '%.3f' d ... % pGO p\n",
    "                 '%.3f' d ... % dprime conditionign\n",
    "                 '%s' d ... % stim r\n",
    "                 '%s' d ... % stim p\n",
    "                 '%.3f' d ... % dprime post-r\n",
    "                 '%.3f' d ... % dprime post-p\n",
    "                 '%.3f' d ... % alpha pre-r\n",
    "                 '%.3f' d ... % alpha pre-p\n",
    "                 '%.3f' d ... % alpha post-r\n",
    "                 '%.3f' d ... % alpha post-p\n",
    "                 '%.3f' d ... % dprime averaged over all stimuli\n",
    "                 '%d' d ... subjective awareness\n",
    "                 '%d' d]; % seen_unseen \n",
    "\n",
    "try\n",
    "    \n",
    "    fid = fopen(filename, 'w');\n",
    "    h_string = sprintf(['%s' d],header{:}); \n",
    "    fprintf(fid,'%s',h_string(1:end-1)); \n",
    "    fprintf(fid, '\\n');\n",
    "\n",
    "    for i = 1:length(S)\n",
    "        \n",
    "        fprintf(fid, format_string, ...\n",
    "                S(i), ...\n",
    "                visibility(i), ...\n",
    "                visibility_string{visibility(i)}, ...\n",
    "                run(i), ...\n",
    "                dummy1(i), ...\n",
    "                dummy2(i), ...\n",
    "                dummy3(i), ...\n",
    "                p_go_r(i), ...\n",
    "                p_go_p(i), ...\n",
    "                dprime_conditioning(i), ...\n",
    "                stim_r{i}, ...\n",
    "                stim_p{i}, ...\n",
    "                dprime_post_r(i), ...\n",
    "                dprime_post_p(i), ...\n",
    "                alpha_pre_r(i), ...\n",
    "                alpha_pre_p(i), ...\n",
    "                alpha_post_r(i), ...\n",
    "                alpha_post_p(i), ...\n",
    "                dprime_post_av(i),...\n",
    "                subjective_awareness(i));\n",
    "        fprintf(fid, '\\n');\n",
    "    end\n",
    "catch err\n",
    "    fclose(fid);\n",
    "    err\n",
    "end\n",
    "\n",
    "fclose(fid);\n",
    "\n",
    "% change directory back to where it was in the beginning of the script\n",
    "cd(p_w_d)\n"
   ]
  },
  {
   "cell_type": "markdown",
   "metadata": {},
   "source": [
    "# 4. Aggregate and save data for 2 way repeated measures ANOVA "
   ]
  },
  {
   "cell_type": "code",
   "execution_count": 18,
   "metadata": {
    "collapsed": false
   },
   "outputs": [
    {
     "name": "stdout",
     "output_type": "stream",
     "text": [
      "Found 29 data-directories\n"
     ]
    }
   ],
   "source": [
    "clear conditioning p_go\n",
    "dirs = dir([p_w_d, filesep, logdir, filesep, 'sc*']);\n",
    "nsubs = numel(dirs);\n",
    "disp(sprintf('Found %d data-directories', nsubs))\n",
    "\n",
    "% intiailize a subject counter\n",
    "ss_counter = 1;   \n",
    "\n",
    "% initialize data structure for aggregated data of conditioning experiment\n",
    "conditioning.run = [];\n",
    "conditioning.subject = [];\n",
    "conditioning.condition = [];\n",
    "coniditoning.p_go = [];\n",
    "p_go = [];\n",
    "ii = 1; % a counter for the output struct\n",
    "\n",
    "for d = 1:length(dirs)\n",
    "    \n",
    "    % load mat files for each of the four conditioning runs\n",
    "    for r = 1:4\n",
    "        clear data;\n",
    "        fname = dir(sprintf('%s%s%s%s%s%d%s',dirs(d).folder, filesep, dirs(d).name, filesep, '*run_',r,'*'));\n",
    "        load([fname.folder filesep fname.name]);\n",
    "        \n",
    "        % loop over rewarding (1) and punishing (2) cues\n",
    "        for cc = 1:2\n",
    "            % get proportion of GO responses \n",
    "            % for later plotting:\n",
    "            \n",
    "            nGo = sum(data.condition == cc & data.go_response == 1);\n",
    "            nTrials = sum(data.condition == cc);\n",
    "\n",
    "            if strcmp(hfacorrection, 'snodgrass&corwin1988')\n",
    "                pg = (nGo+0.5)/(nTrials+1);\n",
    "            else\n",
    "                pg = nGo/nTrials;\n",
    "                if pg == 1\n",
    "                    pg = 0.99;\n",
    "                end\n",
    "                if pg == 0\n",
    "                    pg = 0.01;\n",
    "                end    \n",
    "            end\n",
    "            p_go(ss_counter, r, cc) = pg;\n",
    "            \n",
    "            % store also in long-format for stats\n",
    "            conditioning.p_go(ii) = p_go(ss_counter, r, cc);\n",
    "            conditioning.run(ii) = r;\n",
    "            conditioning.subject(ii) = ss_counter;\n",
    "            conditioning.condition(ii) = cc;\n",
    "            \n",
    "            ii = ii + 1;\n",
    "        end \n",
    "        clear data;\n",
    "    end\n",
    "    ss_counter = ss_counter + 1;\n",
    "end"
   ]
  },
  {
   "cell_type": "markdown",
   "metadata": {},
   "source": [
    "### save data for later use R and Matlab"
   ]
  },
  {
   "cell_type": "code",
   "execution_count": 19,
   "metadata": {
    "collapsed": false
   },
   "outputs": [],
   "source": [
    "cd(outputdir)\n",
    "delimiter = ',';\n",
    "filename =  ['visibilityXreward' hfacorrection, '.txt'];\n",
    "header = ['Pgo', delimiter , 'subject', delimiter, 'visibility', delimiter 'reward'];\n",
    "fid = fopen(filename, 'w');\n",
    "fprintf(fid,'%s',header); \n",
    "fprintf(fid, '\\n');\n",
    "fclose(fid);\n",
    "dlmwrite(filename, [conditioning.p_go', conditioning.subject', conditioning.run', conditioning.condition'], 'delimiter', ...\n",
    "         delimiter, 'precision', 5, '-append');\n",
    "save (['visibilityXreward' hfacorrection '.mat'], 'conditioning',  'p_go',  'hfacorrection');\n",
    "cd(p_w_d)"
   ]
  }
 ],
 "metadata": {
  "anaconda-cloud": {},
  "kernelspec": {
   "display_name": "Matlab",
   "language": "matlab",
   "name": "matlab"
  },
  "language_info": {
   "codemirror_mode": "octave",
   "file_extension": ".m",
   "help_links": [
    {
     "text": "MetaKernel Magics",
     "url": "https://github.com/calysto/metakernel/blob/master/metakernel/magics/README.md"
    }
   ],
   "mimetype": "text/x-matlab",
   "name": "matlab",
   "version": "0.14.3"
  }
 },
 "nbformat": 4,
 "nbformat_minor": 0
}
