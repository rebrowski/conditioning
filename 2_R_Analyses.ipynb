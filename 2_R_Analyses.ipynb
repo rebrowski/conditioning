{
 "cells": [
  {
   "cell_type": "markdown",
   "metadata": {},
   "source": [
    "# Preliminaries\n",
    "Uncomment and run the following to install required R packages if necessary"
   ]
  },
  {
   "cell_type": "code",
   "execution_count": 1,
   "metadata": {
    "collapsed": false
   },
   "outputs": [],
   "source": [
    "#install.packages('ez')\n",
    "#install.packages('ggplot2')\n",
    "#update.packages(checkBuilt=TRUE) "
   ]
  },
  {
   "cell_type": "markdown",
   "metadata": {},
   "source": [
    "Load required packages"
   ]
  },
  {
   "cell_type": "code",
   "execution_count": 2,
   "metadata": {
    "collapsed": true
   },
   "outputs": [],
   "source": [
    "library(ez, pos=13)\n",
    "library(car)\n",
    "library(ggplot2)"
   ]
  },
  {
   "cell_type": "markdown",
   "metadata": {},
   "source": [
    "Decide whether we want to analyse data in which hits and false alarms were corrected the way reported in the manuscript (replace hits, false alamrs that are excactly zero or one with 0.01 and 0.99 respectively) or by the method proposed by Snodgrass & Corwin 1988."
   ]
  },
  {
   "cell_type": "code",
   "execution_count": 3,
   "metadata": {
    "collapsed": false
   },
   "outputs": [],
   "source": [
    "hfacorrection = 'regular';\n",
    "#hfacorrection = 'snodgrass&corwin1988';\n",
    "fname = paste(\"outputs/sc_\", hfacorrection, \".txt\", sep=\"\")"
   ]
  },
  {
   "cell_type": "markdown",
   "metadata": {},
   "source": [
    "Load data as aggregated by `1_MATALAB_LoadAndAggregateData.ipynb`"
   ]
  },
  {
   "cell_type": "code",
   "execution_count": 4,
   "metadata": {
    "collapsed": false
   },
   "outputs": [],
   "source": [
    "sc <- read.table(fname,header=TRUE, sep=\",\", na.strings=\"NaN\", dec=\".\", strip.white=TRUE)"
   ]
  },
  {
   "cell_type": "code",
   "execution_count": 5,
   "metadata": {
    "collapsed": false
   },
   "outputs": [
    {
     "name": "stdout",
     "output_type": "stream",
     "text": [
      "'data.frame':\t116 obs. of  21 variables:\n",
      " $ subject               : int  1 1 1 1 2 2 2 2 3 3 ...\n",
      " $ visibility            : int  4 3 2 1 4 3 2 1 4 3 ...\n",
      " $ Visibility            : Factor w/ 4 levels \"above_th\",\"at_th\",..: 1 2 3 4 1 2 3 4 1 2 ...\n",
      " $ run                   : int  1 2 3 4 1 2 3 4 1 2 ...\n",
      " $ belowth_vs_invisible  : int  0 1 0 0 0 1 0 0 0 1 ...\n",
      " $ threshold_vs_invisible: int  0 0 1 0 0 0 1 0 0 0 ...\n",
      " $ visible_vs_invisble   : int  0 0 0 1 0 0 0 1 0 0 ...\n",
      " $ pGOr                  : num  0.99 0.938 0.472 0.5 0.99 0.875 0.611 0.194 0.99 0.938 ...\n",
      " $ pGOp                  : num  0.01 0.125 0.611 0.528 0.01 0.625 0.472 0.389 0.25 0.562 ...\n",
      " $ dprime_conditioning   : num  4.653 2.684 -0.352 -0.07 4.653 ...\n",
      " $ stim_r                : Factor w/ 8 levels \"briefcase\",\"bucket\",..: 6 1 4 5 1 4 2 6 6 1 ...\n",
      " $ stim_p                : Factor w/ 8 levels \"briefcase\",\"bucket\",..: 3 8 2 7 7 3 8 5 7 5 ...\n",
      " $ d_post_r              : num  NA 2.432 -1.176 0.289 NA ...\n",
      " $ d_post_p              : num  NA 2.795 0 0.131 NA ...\n",
      " $ alpha_pre_r           : num  NA 1.47 2.06 1.84 NA ...\n",
      " $ alpha_pre_p           : num  NA 1.72 1.12 1.48 NA ...\n",
      " $ alpha_post_r          : num  NA 0.665 2.007 1.605 NA ...\n",
      " $ alpha_post_p          : num  NA 1.59 1.58 1.59 NA ...\n",
      " $ dprime_post_av        : num  4.653 2.03 0.532 0.497 4.396 ...\n",
      " $ subjective_awareness  : int  10 9 2 0 10 3 2 0 10 4 ...\n",
      " $ seen_unseen           : logi  NA NA NA NA NA NA ...\n"
     ]
    }
   ],
   "source": [
    "#names(sc)\n",
    "str(sc)"
   ]
  },
  {
   "cell_type": "markdown",
   "metadata": {},
   "source": [
    "define some columns as factors"
   ]
  },
  {
   "cell_type": "code",
   "execution_count": 6,
   "metadata": {
    "collapsed": false
   },
   "outputs": [],
   "source": [
    "sc$subject <- factor(sc$subject)"
   ]
  },
  {
   "cell_type": "markdown",
   "metadata": {},
   "source": [
    "# Post Threshold Test\n",
    "## One-way repeated measures Anova of the factor Detectability on discrimination performance in the threshold test (Section 3.1. in the Manuscript, 1st paragraph )"
   ]
  },
  {
   "cell_type": "code",
   "execution_count": 7,
   "metadata": {
    "collapsed": false
   },
   "outputs": [],
   "source": [
    "anova1= ezANOVA(data=sc, dv=.(dprime_post_av), wid=.(subject), within=.(Visibility), type=3, detailed=TRUE)"
   ]
  },
  {
   "cell_type": "code",
   "execution_count": 8,
   "metadata": {
    "collapsed": false
   },
   "outputs": [
    {
     "data": {
      "text/html": [
       "<table>\n",
       "<thead><tr><th scope=col>Effect</th><th scope=col>DFn</th><th scope=col>DFd</th><th scope=col>SSn</th><th scope=col>SSd</th><th scope=col>F</th><th scope=col>p</th><th scope=col>p&lt;.05</th><th scope=col>ges</th></tr></thead>\n",
       "<tbody>\n",
       "\t<tr><td>(Intercept) </td><td>1           </td><td>28          </td><td>541.4083    </td><td>13.78857    </td><td>1099.4201   </td><td>5.135573e-24</td><td>*           </td><td>0.9494652   </td></tr>\n",
       "\t<tr><td>Visibility  </td><td>3           </td><td>84          </td><td>249.5975    </td><td>15.02763    </td><td> 465.0587   </td><td>3.423194e-52</td><td>*           </td><td>0.8964986   </td></tr>\n",
       "</tbody>\n",
       "</table>\n"
      ],
      "text/latex": [
       "\\begin{tabular}{r|lllllllll}\n",
       " Effect & DFn & DFd & SSn & SSd & F & p & p<.05 & ges\\\\\n",
       "\\hline\n",
       "\t (Intercept)  & 1            & 28           & 541.4083     & 13.78857     & 1099.4201    & 5.135573e-24 & *            & 0.9494652   \\\\\n",
       "\t Visibility   & 3            & 84           & 249.5975     & 15.02763     &  465.0587    & 3.423194e-52 & *            & 0.8964986   \\\\\n",
       "\\end{tabular}\n"
      ],
      "text/markdown": [
       "\n",
       "Effect | DFn | DFd | SSn | SSd | F | p | p<.05 | ges | \n",
       "|---|---|\n",
       "| (Intercept)  | 1            | 28           | 541.4083     | 13.78857     | 1099.4201    | 5.135573e-24 | *            | 0.9494652    | \n",
       "| Visibility   | 3            | 84           | 249.5975     | 15.02763     |  465.0587    | 3.423194e-52 | *            | 0.8964986    | \n",
       "\n",
       "\n"
      ],
      "text/plain": [
       "  Effect      DFn DFd SSn      SSd      F         p            p<.05 ges      \n",
       "1 (Intercept) 1   28  541.4083 13.78857 1099.4201 5.135573e-24 *     0.9494652\n",
       "2 Visibility  3   84  249.5975 15.02763  465.0587 3.423194e-52 *     0.8964986"
      ]
     },
     "metadata": {},
     "output_type": "display_data"
    }
   ],
   "source": [
    "anova1$'ANOVA'"
   ]
  },
  {
   "cell_type": "code",
   "execution_count": 9,
   "metadata": {
    "collapsed": false
   },
   "outputs": [
    {
     "data": {
      "text/html": [
       "<table>\n",
       "<thead><tr><th></th><th scope=col>Effect</th><th scope=col>W</th><th scope=col>p</th><th scope=col>p&lt;.05</th></tr></thead>\n",
       "<tbody>\n",
       "\t<tr><th scope=row>2</th><td>Visibility </td><td>0.5159999  </td><td>0.003397873</td><td>*          </td></tr>\n",
       "</tbody>\n",
       "</table>\n"
      ],
      "text/latex": [
       "\\begin{tabular}{r|llll}\n",
       "  & Effect & W & p & p<.05\\\\\n",
       "\\hline\n",
       "\t2 & Visibility  & 0.5159999   & 0.003397873 & *          \\\\\n",
       "\\end{tabular}\n"
      ],
      "text/markdown": [
       "\n",
       "| <!--/--> | Effect | W | p | p<.05 | \n",
       "|---|\n",
       "| 2 | Visibility  | 0.5159999   | 0.003397873 | *           | \n",
       "\n",
       "\n"
      ],
      "text/plain": [
       "  Effect     W         p           p<.05\n",
       "2 Visibility 0.5159999 0.003397873 *    "
      ]
     },
     "metadata": {},
     "output_type": "display_data"
    }
   ],
   "source": [
    "anova1$'Mauchly\\'s Test for Sphericity'"
   ]
  },
  {
   "cell_type": "code",
   "execution_count": 10,
   "metadata": {
    "collapsed": false
   },
   "outputs": [
    {
     "data": {
      "text/html": [
       "<table>\n",
       "<thead><tr><th></th><th scope=col>Effect</th><th scope=col>GGe</th><th scope=col>p[GG]</th><th scope=col>p[GG]&lt;.05</th><th scope=col>HFe</th><th scope=col>p[HF]</th><th scope=col>p[HF]&lt;.05</th></tr></thead>\n",
       "<tbody>\n",
       "\t<tr><th scope=row>2</th><td>Visibility  </td><td>0.6946956   </td><td>5.291369e-37</td><td>*           </td><td>0.7516427   </td><td>7.738512e-40</td><td>*           </td></tr>\n",
       "</tbody>\n",
       "</table>\n"
      ],
      "text/latex": [
       "\\begin{tabular}{r|lllllll}\n",
       "  & Effect & GGe & p{[}GG{]} & p{[}GG{]}<.05 & HFe & p{[}HF{]} & p{[}HF{]}<.05\\\\\n",
       "\\hline\n",
       "\t2 & Visibility   & 0.6946956    & 5.291369e-37 & *            & 0.7516427    & 7.738512e-40 & *           \\\\\n",
       "\\end{tabular}\n"
      ],
      "text/markdown": [
       "\n",
       "| <!--/--> | Effect | GGe | p[GG] | p[GG]<.05 | HFe | p[HF] | p[HF]<.05 | \n",
       "|---|\n",
       "| 2 | Visibility   | 0.6946956    | 5.291369e-37 | *            | 0.7516427    | 7.738512e-40 | *            | \n",
       "\n",
       "\n"
      ],
      "text/plain": [
       "  Effect     GGe       p[GG]        p[GG]<.05 HFe       p[HF]        p[HF]<.05\n",
       "2 Visibility 0.6946956 5.291369e-37 *         0.7516427 7.738512e-40 *        "
      ]
     },
     "metadata": {},
     "output_type": "display_data"
    }
   ],
   "source": [
    "anova1$'Sphericity Corrections'"
   ]
  },
  {
   "cell_type": "markdown",
   "metadata": {},
   "source": [
    "Adjust dofs accordingly"
   ]
  },
  {
   "cell_type": "code",
   "execution_count": 11,
   "metadata": {
    "collapsed": false
   },
   "outputs": [
    {
     "data": {
      "text/html": [
       "<span style=white-space:pre-wrap>'F(2.255,63.138)  = 465.059, p = 0.000000e+00, HF epsilon = 0.75)'</span>"
      ],
      "text/latex": [
       "'F(2.255,63.138)  = 465.059, p = 0.000000e+00, HF epsilon = 0.75)'"
      ],
      "text/markdown": [
       "<span style=white-space:pre-wrap>'F(2.255,63.138)  = 465.059, p = 0.000000e+00, HF epsilon = 0.75)'</span>"
      ],
      "text/plain": [
       "[1] \"F(2.255,63.138)  = 465.059, p = 0.000000e+00, HF epsilon = 0.75)\""
      ]
     },
     "metadata": {},
     "output_type": "display_data"
    }
   ],
   "source": [
    "eps_vis = anova1$'Sphericity Corrections'[1,5];\n",
    "F_vis = anova1$ANOVA[2,6]\n",
    "Fn_vis = anova1$ANOVA[2,2]*eps_vis\n",
    "Fd_vis = anova1$ANOVA[2,3]*eps_vis\n",
    "p_vis = (1-pf(F_vis, Fn_vis,Fd_vis))  \n",
    "sprintf(\"F(%.3f,%.3f)  = %.3f, p = %e, HF epsilon = %.2f)\", Fn_vis, Fd_vis, F_vis, p_vis, eps_vis)"
   ]
  },
  {
   "cell_type": "markdown",
   "metadata": {},
   "source": [
    "Pairwise post-hoc t-tests of neighboring Visibility Levels"
   ]
  },
  {
   "cell_type": "code",
   "execution_count": 12,
   "metadata": {
    "collapsed": false
   },
   "outputs": [
    {
     "name": "stdout",
     "output_type": "stream",
     "text": [
      "[1] \"dprimes post: M(SD) <th: 1.19(0.60), M(SD) <<th = 0.56(0.42), t(28)= 7.627, p = 2.620e-08, Cohen's d: 1.42\"\n",
      "[1] \"dprimes post: M(SD) @th: 2.51(0.64), M(SD) <th = 1.19(0.60), t(28)= 14.288, p = 2.186e-14, Cohen's d: 2.65\"\n",
      "[1] \"dprimes post: M(SD) >th: 4.39(0.28), M(SD) @th = 2.51(0.64), t(28)= 13.270, p = 1.340e-13, Cohen's d: 2.46\"\n"
     ]
    }
   ],
   "source": [
    "varlabels <-c(\"<<th\", \"<th\", \"@th\", \">th\")\n",
    "for (i in 1:3){\n",
    "  var1 <- sc[sc$visibility==i+1, \"dprime_post_av\"]\n",
    "  var2 <- sc[sc$visibility==i, \"dprime_post_av\"]\n",
    "  # do the t-test\n",
    "  result <- t.test(var1, var2, paired=TRUE)\n",
    "  \n",
    "  # calcualte cohen's d (mean differences/ standard deviations of mean differences)\n",
    "  cohensd <- mean(var1-var2)/sd(var1-var2)\n",
    "\n",
    "  # format the output\n",
    "  output <- sprintf('dprimes post: M(SD) %s: %.2f(%.2f), M(SD) %s = %.2f(%.2f), t(%2.0f)= %.3f, p = %.3e, Cohen\\'s d: %.2f', varlabels[i+1], mean(var1), sd(var1), varlabels[i], mean(var2), sd(var2), result$parameter, result$statistic, result$p.value, cohensd)\n",
    "  print(output)\n",
    "}"
   ]
  },
  {
   "cell_type": "markdown",
   "metadata": {},
   "source": [
    "## One-way repeated measures Anova of the factor Visibility on Subjective Awareness Ratings obtained after each run in the conditioning experiment (Section 3.1. in the Manuscript, 2nd paragraph )\n",
    "\n",
    "As we have missing data of these awareness ratings in two subjects, we have to remove these first"
   ]
  },
  {
   "cell_type": "code",
   "execution_count": 13,
   "metadata": {
    "collapsed": true
   },
   "outputs": [],
   "source": [
    "sc$iscomplete <- FALSE \n",
    "for (s in unique(sc$subject)){\n",
    "  hasNA = unique(is.na(sc$subjective_awareness) & sc$subject == s)\n",
    "  if (length(hasNA) < 2){ # all good\n",
    "    sc$iscomplete[sc$subject == s] = TRUE\n",
    "  }\n",
    "  rm(hasNA)\n",
    "}\n",
    "\n",
    "# save complete cases in new data frame\n",
    "sc_ <- sc[sc$iscomplete,]\n",
    "\n",
    "# now, it seem that we have to refresh that subject factor for some reason \n",
    "sc_$subject <- factor(sc_$subject)"
   ]
  },
  {
   "cell_type": "markdown",
   "metadata": {},
   "source": [
    "Then, we can do the Anova similar to the above:"
   ]
  },
  {
   "cell_type": "code",
   "execution_count": 14,
   "metadata": {
    "collapsed": false
   },
   "outputs": [
    {
     "data": {
      "text/html": [
       "<table>\n",
       "<thead><tr><th scope=col>Effect</th><th scope=col>DFn</th><th scope=col>DFd</th><th scope=col>SSn</th><th scope=col>SSd</th><th scope=col>F</th><th scope=col>p</th><th scope=col>p&lt;.05</th><th scope=col>ges</th></tr></thead>\n",
       "<tbody>\n",
       "\t<tr><td>(Intercept) </td><td>1           </td><td>26          </td><td>3072.000    </td><td>208.500     </td><td>383.07914   </td><td>4.412140e-17</td><td>*           </td><td>0.8695069   </td></tr>\n",
       "\t<tr><td>Visibility  </td><td>3           </td><td>78          </td><td> 924.963    </td><td>252.537     </td><td> 95.22974   </td><td>5.301354e-26</td><td>*           </td><td>0.6673614   </td></tr>\n",
       "</tbody>\n",
       "</table>\n"
      ],
      "text/latex": [
       "\\begin{tabular}{r|lllllllll}\n",
       " Effect & DFn & DFd & SSn & SSd & F & p & p<.05 & ges\\\\\n",
       "\\hline\n",
       "\t (Intercept)  & 1            & 26           & 3072.000     & 208.500      & 383.07914    & 4.412140e-17 & *            & 0.8695069   \\\\\n",
       "\t Visibility   & 3            & 78           &  924.963     & 252.537      &  95.22974    & 5.301354e-26 & *            & 0.6673614   \\\\\n",
       "\\end{tabular}\n"
      ],
      "text/markdown": [
       "\n",
       "Effect | DFn | DFd | SSn | SSd | F | p | p<.05 | ges | \n",
       "|---|---|\n",
       "| (Intercept)  | 1            | 26           | 3072.000     | 208.500      | 383.07914    | 4.412140e-17 | *            | 0.8695069    | \n",
       "| Visibility   | 3            | 78           |  924.963     | 252.537      |  95.22974    | 5.301354e-26 | *            | 0.6673614    | \n",
       "\n",
       "\n"
      ],
      "text/plain": [
       "  Effect      DFn DFd SSn      SSd     F         p            p<.05 ges      \n",
       "1 (Intercept) 1   26  3072.000 208.500 383.07914 4.412140e-17 *     0.8695069\n",
       "2 Visibility  3   78   924.963 252.537  95.22974 5.301354e-26 *     0.6673614"
      ]
     },
     "metadata": {},
     "output_type": "display_data"
    }
   ],
   "source": [
    "anova2= ezANOVA(data=sc_, dv=.(subjective_awareness), wid=.(subject), within=.(Visibility), type=3, detailed=TRUE)\n",
    "anova2$'ANOVA'"
   ]
  },
  {
   "cell_type": "code",
   "execution_count": 15,
   "metadata": {
    "collapsed": false
   },
   "outputs": [
    {
     "data": {
      "text/html": [
       "<table>\n",
       "<thead><tr><th></th><th scope=col>Effect</th><th scope=col>W</th><th scope=col>p</th><th scope=col>p&lt;.05</th></tr></thead>\n",
       "<tbody>\n",
       "\t<tr><th scope=row>2</th><td>Visibility</td><td>0.9831861 </td><td>0.9947879 </td><td>          </td></tr>\n",
       "</tbody>\n",
       "</table>\n"
      ],
      "text/latex": [
       "\\begin{tabular}{r|llll}\n",
       "  & Effect & W & p & p<.05\\\\\n",
       "\\hline\n",
       "\t2 & Visibility & 0.9831861  & 0.9947879  &           \\\\\n",
       "\\end{tabular}\n"
      ],
      "text/markdown": [
       "\n",
       "| <!--/--> | Effect | W | p | p<.05 | \n",
       "|---|\n",
       "| 2 | Visibility | 0.9831861  | 0.9947879  |            | \n",
       "\n",
       "\n"
      ],
      "text/plain": [
       "  Effect     W         p         p<.05\n",
       "2 Visibility 0.9831861 0.9947879      "
      ]
     },
     "metadata": {},
     "output_type": "display_data"
    }
   ],
   "source": [
    "anova2$'Mauchly\\'s Test for Sphericity'"
   ]
  },
  {
   "cell_type": "markdown",
   "metadata": {},
   "source": [
    "... all good, no corrections of dofs needed here, and we can go on with pariwise comparisons of neighboring visibility levels as above"
   ]
  },
  {
   "cell_type": "code",
   "execution_count": 16,
   "metadata": {
    "collapsed": false
   },
   "outputs": [
    {
     "name": "stdout",
     "output_type": "stream",
     "text": [
      "[1] \"subj. Awareness M(SD) <th: 3.67(2.51), M(SD) <<th = 1.93(2.38), t(26)= 3.445, p = 1.948e-03, Cohen's d: 0.66\"\n",
      "[1] \"subj. Awareness M(SD) @th: 6.00(2.29), M(SD) <th = 3.67(2.51), t(26)= 4.608, p = 9.461e-05, Cohen's d: 0.89\"\n",
      "[1] \"subj. Awareness M(SD) >th: 9.74(0.71), M(SD) @th = 6.00(2.29), t(26)= 7.905, p = 2.210e-08, Cohen's d: 1.52\"\n"
     ]
    }
   ],
   "source": [
    "varlabels <-c(\"<<th\", \"<th\", \"@th\", \">th\")\n",
    "for (i in 1:3){\n",
    "  var1 <- sc_[sc_$visibility==i+1, \"subjective_awareness\"]\n",
    "  var2 <- sc_[sc_$visibility==i, \"subjective_awareness\"]\n",
    "  # do the t-test\n",
    "  result <- t.test(var1, var2, paired=TRUE)\n",
    "  \n",
    "  # calcualte cohen's d (mean differences/ standard deviations of mean differences)\n",
    "  cohensd <- mean(var1-var2)/sd(var1-var2)\n",
    "\n",
    "  # format the output\n",
    "  output <- sprintf('subj. Awareness M(SD) %s: %.2f(%.2f), M(SD) %s = %.2f(%.2f), t(%2.0f)= %.3f, p = %.3e, Cohen\\'s d: %.2f', varlabels[i+1], mean(var1), sd(var1), varlabels[i], mean(var2), sd(var2), result$parameter, result$statistic, result$p.value, cohensd)\n",
    "  print(output)\n",
    "}"
   ]
  },
  {
   "cell_type": "markdown",
   "metadata": {},
   "source": [
    "## 2 way repeated measures ANOVA of Conditioning Experiment"
   ]
  },
  {
   "cell_type": "code",
   "execution_count": 17,
   "metadata": {
    "collapsed": false
   },
   "outputs": [
    {
     "data": {
      "text/html": [
       "<table>\n",
       "<thead><tr><th scope=col>Pgo</th><th scope=col>subject</th><th scope=col>visibility</th><th scope=col>reward</th></tr></thead>\n",
       "<tbody>\n",
       "\t<tr><td>0.99000  </td><td>1        </td><td>&gt;th   </td><td>rewarding</td></tr>\n",
       "\t<tr><td>0.01000  </td><td>1        </td><td>&gt;th   </td><td>punishing</td></tr>\n",
       "\t<tr><td>0.93750  </td><td>1        </td><td>@th      </td><td>rewarding</td></tr>\n",
       "\t<tr><td>0.12500  </td><td>1        </td><td>@th      </td><td>punishing</td></tr>\n",
       "\t<tr><td>0.47222  </td><td>1        </td><td>&lt;th   </td><td>rewarding</td></tr>\n",
       "\t<tr><td>0.61111  </td><td>1        </td><td>&lt;th   </td><td>punishing</td></tr>\n",
       "\t<tr><td>0.50000   </td><td>1         </td><td>&lt;&lt;th</td><td>rewarding </td></tr>\n",
       "\t<tr><td>0.52778   </td><td>1         </td><td>&lt;&lt;th</td><td>punishing </td></tr>\n",
       "\t<tr><td>0.99000  </td><td>2        </td><td>&gt;th   </td><td>rewarding</td></tr>\n",
       "\t<tr><td>0.01000  </td><td>2        </td><td>&gt;th   </td><td>punishing</td></tr>\n",
       "</tbody>\n",
       "</table>\n"
      ],
      "text/latex": [
       "\\begin{tabular}{r|llll}\n",
       " Pgo & subject & visibility & reward\\\\\n",
       "\\hline\n",
       "\t 0.99000   & 1         & >th       & rewarding\\\\\n",
       "\t 0.01000   & 1         & >th       & punishing\\\\\n",
       "\t 0.93750   & 1         & @th       & rewarding\\\\\n",
       "\t 0.12500   & 1         & @th       & punishing\\\\\n",
       "\t 0.47222   & 1         & <th       & rewarding\\\\\n",
       "\t 0.61111   & 1         & <th       & punishing\\\\\n",
       "\t 0.50000   & 1         & <<th      & rewarding\\\\\n",
       "\t 0.52778   & 1         & <<th      & punishing\\\\\n",
       "\t 0.99000   & 2         & >th       & rewarding\\\\\n",
       "\t 0.01000   & 2         & >th       & punishing\\\\\n",
       "\\end{tabular}\n"
      ],
      "text/markdown": [
       "\n",
       "Pgo | subject | visibility | reward | \n",
       "|---|---|---|---|---|---|---|---|---|---|\n",
       "| 0.99000   | 1         | >th       | rewarding | \n",
       "| 0.01000   | 1         | >th       | punishing | \n",
       "| 0.93750   | 1         | @th       | rewarding | \n",
       "| 0.12500   | 1         | @th       | punishing | \n",
       "| 0.47222   | 1         | <th       | rewarding | \n",
       "| 0.61111   | 1         | <th       | punishing | \n",
       "| 0.50000   | 1         | <<th      | rewarding | \n",
       "| 0.52778   | 1         | <<th      | punishing | \n",
       "| 0.99000   | 2         | >th       | rewarding | \n",
       "| 0.01000   | 2         | >th       | punishing | \n",
       "\n",
       "\n"
      ],
      "text/plain": [
       "   Pgo     subject visibility reward   \n",
       "1  0.99000 1       >th        rewarding\n",
       "2  0.01000 1       >th        punishing\n",
       "3  0.93750 1       @th        rewarding\n",
       "4  0.12500 1       @th        punishing\n",
       "5  0.47222 1       <th        rewarding\n",
       "6  0.61111 1       <th        punishing\n",
       "7  0.50000 1       <<th       rewarding\n",
       "8  0.52778 1       <<th       punishing\n",
       "9  0.99000 2       >th        rewarding\n",
       "10 0.01000 2       >th        punishing"
      ]
     },
     "metadata": {},
     "output_type": "display_data"
    }
   ],
   "source": [
    "#load data produced by MATLAB Load and Aggregate Notebook\n",
    "fname = paste(\"outputs/visibilityXreward\", hfacorrection, \".txt\", sep = \"\")\n",
    "sc <- read.table(fname,header=TRUE, sep=\",\", na.strings=\"NA\", dec=\".\", strip.white=TRUE)\n",
    "\n",
    "# convert some columns to factors\n",
    "sc$visibility <- factor(sc$visibility, labels = c(\">th\", \"@th\", \"<th\", \"<<th\" )) \n",
    "sc$reward <- factor(sc$reward, labels = c(\"rewarding\", \"punishing\"))\n",
    "sc$subject <- factor(sc$subject)\n",
    "\n",
    "# look at the first 10 rows\n",
    "head(sc,10)"
   ]
  },
  {
   "cell_type": "markdown",
   "metadata": {},
   "source": [
    "### Do a similar plot to what is shown in Figure 4\n",
    "\n",
    "As we use Matlab for all the figures, this is merely a sanity check."
   ]
  },
  {
   "cell_type": "code",
   "execution_count": 18,
   "metadata": {
    "collapsed": false
   },
   "outputs": [
    {
     "data": {},
     "metadata": {},
     "output_type": "display_data"
    },
    {
     "data": {
      "image/png": "[encoded data removed]",
      "text/plain": [
       "plot without title"
      ]
     },
     "metadata": {},
     "output_type": "display_data"
    }
   ],
   "source": [
    "options(repr.plot.width=7, repr.plot.height=3)\n",
    "plotData2 = ggplot(sc,aes(visibility, Pgo, fill=reward))\n",
    "plotData2 + stat_summary(fun.y = mean, geom=\"bar\", position=\"dodge\") + \n",
    "    stat_summary(fun.data = mean_cl_normal, geom = \"errorbar\", position = position_dodge(width=0.90), width = 0.2) + \n",
    "    ggtitle(\"Proportion of GO responses in the Conditioning Experiment\")"
   ]
  },
  {
   "cell_type": "markdown",
   "metadata": {},
   "source": [
    "### compute the 2 x 4 ANOVA using ezANOVA"
   ]
  },
  {
   "cell_type": "code",
   "execution_count": 19,
   "metadata": {
    "collapsed": false
   },
   "outputs": [
    {
     "data": {
      "text/html": [
       "<table>\n",
       "<thead><tr><th scope=col>Effect</th><th scope=col>DFn</th><th scope=col>DFd</th><th scope=col>SSn</th><th scope=col>SSd</th><th scope=col>F</th><th scope=col>p</th><th scope=col>p&lt;.05</th><th scope=col>ges</th></tr></thead>\n",
       "<tbody>\n",
       "\t<tr><td>(Intercept)      </td><td>1                </td><td>28               </td><td>60.5178809       </td><td>1.587580         </td><td>1067.347907      </td><td>7.695052e-24     </td><td>*                </td><td>0.87144246       </td></tr>\n",
       "\t<tr><td>visibility       </td><td>3                </td><td>84               </td><td> 0.3885731       </td><td>2.318909         </td><td>   4.691882      </td><td>4.446895e-03     </td><td>*                </td><td>0.04170879       </td></tr>\n",
       "\t<tr><td>reward           </td><td>1                </td><td>28               </td><td>13.0300970       </td><td>1.522493         </td><td> 239.635097      </td><td>2.960831e-15     </td><td>*                </td><td>0.59341386       </td></tr>\n",
       "\t<tr><td>visibility:reward</td><td>3                </td><td>84               </td><td> 5.3059788       </td><td>3.498779         </td><td>  42.462646      </td><td>8.464578e-17     </td><td>*                </td><td>0.37277476       </td></tr>\n",
       "</tbody>\n",
       "</table>\n"
      ],
      "text/latex": [
       "\\begin{tabular}{r|lllllllll}\n",
       " Effect & DFn & DFd & SSn & SSd & F & p & p<.05 & ges\\\\\n",
       "\\hline\n",
       "\t (Intercept)       & 1                 & 28                & 60.5178809        & 1.587580          & 1067.347907       & 7.695052e-24      & *                 & 0.87144246       \\\\\n",
       "\t visibility        & 3                 & 84                &  0.3885731        & 2.318909          &    4.691882       & 4.446895e-03      & *                 & 0.04170879       \\\\\n",
       "\t reward            & 1                 & 28                & 13.0300970        & 1.522493          &  239.635097       & 2.960831e-15      & *                 & 0.59341386       \\\\\n",
       "\t visibility:reward & 3                 & 84                &  5.3059788        & 3.498779          &   42.462646       & 8.464578e-17      & *                 & 0.37277476       \\\\\n",
       "\\end{tabular}\n"
      ],
      "text/markdown": [
       "\n",
       "Effect | DFn | DFd | SSn | SSd | F | p | p<.05 | ges | \n",
       "|---|---|---|---|\n",
       "| (Intercept)       | 1                 | 28                | 60.5178809        | 1.587580          | 1067.347907       | 7.695052e-24      | *                 | 0.87144246        | \n",
       "| visibility        | 3                 | 84                |  0.3885731        | 2.318909          |    4.691882       | 4.446895e-03      | *                 | 0.04170879        | \n",
       "| reward            | 1                 | 28                | 13.0300970        | 1.522493          |  239.635097       | 2.960831e-15      | *                 | 0.59341386        | \n",
       "| visibility:reward | 3                 | 84                |  5.3059788        | 3.498779          |   42.462646       | 8.464578e-17      | *                 | 0.37277476        | \n",
       "\n",
       "\n"
      ],
      "text/plain": [
       "  Effect            DFn DFd SSn        SSd      F           p            p<.05\n",
       "1 (Intercept)       1   28  60.5178809 1.587580 1067.347907 7.695052e-24 *    \n",
       "2 visibility        3   84   0.3885731 2.318909    4.691882 4.446895e-03 *    \n",
       "3 reward            1   28  13.0300970 1.522493  239.635097 2.960831e-15 *    \n",
       "4 visibility:reward 3   84   5.3059788 3.498779   42.462646 8.464578e-17 *    \n",
       "  ges       \n",
       "1 0.87144246\n",
       "2 0.04170879\n",
       "3 0.59341386\n",
       "4 0.37277476"
      ]
     },
     "metadata": {},
     "output_type": "display_data"
    }
   ],
   "source": [
    "# do 2x4 ANOVA\n",
    "anova= ezANOVA(data=sc, dv=.(Pgo), wid=.(subject), within=.(visibility, reward), type=3, detailed=TRUE)\n",
    "anova$'ANOVA'"
   ]
  },
  {
   "cell_type": "code",
   "execution_count": 20,
   "metadata": {
    "collapsed": false
   },
   "outputs": [
    {
     "data": {
      "text/html": [
       "<table>\n",
       "<thead><tr><th></th><th scope=col>Effect</th><th scope=col>W</th><th scope=col>p</th><th scope=col>p&lt;.05</th></tr></thead>\n",
       "<tbody>\n",
       "\t<tr><th scope=row>2</th><td>visibility       </td><td>0.6060807        </td><td>0.02015008       </td><td>*                </td></tr>\n",
       "\t<tr><th scope=row>4</th><td>visibility:reward</td><td>0.7557591        </td><td>0.18740807       </td><td>                 </td></tr>\n",
       "</tbody>\n",
       "</table>\n"
      ],
      "text/latex": [
       "\\begin{tabular}{r|llll}\n",
       "  & Effect & W & p & p<.05\\\\\n",
       "\\hline\n",
       "\t2 & visibility        & 0.6060807         & 0.02015008        & *                \\\\\n",
       "\t4 & visibility:reward & 0.7557591         & 0.18740807        &                  \\\\\n",
       "\\end{tabular}\n"
      ],
      "text/markdown": [
       "\n",
       "| <!--/--> | Effect | W | p | p<.05 | \n",
       "|---|---|\n",
       "| 2 | visibility        | 0.6060807         | 0.02015008        | *                 | \n",
       "| 4 | visibility:reward | 0.7557591         | 0.18740807        |                   | \n",
       "\n",
       "\n"
      ],
      "text/plain": [
       "  Effect            W         p          p<.05\n",
       "2 visibility        0.6060807 0.02015008 *    \n",
       "4 visibility:reward 0.7557591 0.18740807      "
      ]
     },
     "metadata": {},
     "output_type": "display_data"
    }
   ],
   "source": [
    "anova$'Mauchly\\'s Test for Sphericity'"
   ]
  },
  {
   "cell_type": "code",
   "execution_count": 21,
   "metadata": {
    "collapsed": false
   },
   "outputs": [
    {
     "data": {
      "text/html": [
       "<table>\n",
       "<thead><tr><th></th><th scope=col>Effect</th><th scope=col>GGe</th><th scope=col>p[GG]</th><th scope=col>p[GG]&lt;.05</th><th scope=col>HFe</th><th scope=col>p[HF]</th><th scope=col>p[HF]&lt;.05</th></tr></thead>\n",
       "<tbody>\n",
       "\t<tr><th scope=row>2</th><td>visibility       </td><td>0.7955833        </td><td>8.590124e-03     </td><td>*                </td><td>0.8747522        </td><td>6.650533e-03     </td><td>*                </td></tr>\n",
       "\t<tr><th scope=row>4</th><td>visibility:reward</td><td>0.8716241        </td><td>6.203850e-15     </td><td>*                </td><td>0.9694823        </td><td>2.348051e-16     </td><td>*                </td></tr>\n",
       "</tbody>\n",
       "</table>\n"
      ],
      "text/latex": [
       "\\begin{tabular}{r|lllllll}\n",
       "  & Effect & GGe & p{[}GG{]} & p{[}GG{]}<.05 & HFe & p{[}HF{]} & p{[}HF{]}<.05\\\\\n",
       "\\hline\n",
       "\t2 & visibility        & 0.7955833         & 8.590124e-03      & *                 & 0.8747522         & 6.650533e-03      & *                \\\\\n",
       "\t4 & visibility:reward & 0.8716241         & 6.203850e-15      & *                 & 0.9694823         & 2.348051e-16      & *                \\\\\n",
       "\\end{tabular}\n"
      ],
      "text/markdown": [
       "\n",
       "| <!--/--> | Effect | GGe | p[GG] | p[GG]<.05 | HFe | p[HF] | p[HF]<.05 | \n",
       "|---|---|\n",
       "| 2 | visibility        | 0.7955833         | 8.590124e-03      | *                 | 0.8747522         | 6.650533e-03      | *                 | \n",
       "| 4 | visibility:reward | 0.8716241         | 6.203850e-15      | *                 | 0.9694823         | 2.348051e-16      | *                 | \n",
       "\n",
       "\n"
      ],
      "text/plain": [
       "  Effect            GGe       p[GG]        p[GG]<.05 HFe       p[HF]       \n",
       "2 visibility        0.7955833 8.590124e-03 *         0.8747522 6.650533e-03\n",
       "4 visibility:reward 0.8716241 6.203850e-15 *         0.9694823 2.348051e-16\n",
       "  p[HF]<.05\n",
       "2 *        \n",
       "4 *        "
      ]
     },
     "metadata": {},
     "output_type": "display_data"
    }
   ],
   "source": [
    "anova$'Sphericity Corrections'"
   ]
  },
  {
   "cell_type": "code",
   "execution_count": 22,
   "metadata": {
    "collapsed": false
   },
   "outputs": [
    {
     "data": {
      "text/html": [
       "<span style=white-space:pre-wrap>'F(2.624,73.479)  = 4.692, p = 0.00665, HF epsilon = 0.87)'</span>"
      ],
      "text/latex": [
       "'F(2.624,73.479)  = 4.692, p = 0.00665, HF epsilon = 0.87)'"
      ],
      "text/markdown": [
       "<span style=white-space:pre-wrap>'F(2.624,73.479)  = 4.692, p = 0.00665, HF epsilon = 0.87)'</span>"
      ],
      "text/plain": [
       "[1] \"F(2.624,73.479)  = 4.692, p = 0.00665, HF epsilon = 0.87)\""
      ]
     },
     "metadata": {},
     "output_type": "display_data"
    }
   ],
   "source": [
    "# get Huynh-Feldt corrected dofs, p-vals and episilon for main effect visibility\n",
    "# and print the result with the corrected Values\n",
    "eps_vis = anova$'Sphericity Corrections'[1,5];\n",
    "F_vis = anova$ANOVA[2,6]\n",
    "Fn_vis = anova$ANOVA[2,2]*eps_vis\n",
    "Fd_vis = anova$ANOVA[2,3]*eps_vis\n",
    "p_vis = (1-pf(F_vis, Fn_vis,Fd_vis))\n",
    "sprintf(\"F(%.3f,%.3f)  = %.3f, p = %.5f, HF epsilon = %.2f)\", Fn_vis, Fd_vis, F_vis, p_vis, eps_vis)"
   ]
  },
  {
   "cell_type": "markdown",
   "metadata": {},
   "source": [
    "### post hoc t-Tests of proportion of go punishing verus rewarding at each level of visibility"
   ]
  },
  {
   "cell_type": "code",
   "execution_count": 23,
   "metadata": {
    "collapsed": false
   },
   "outputs": [
    {
     "name": "stdout",
     "output_type": "stream",
     "text": [
      "[1] \">th: M(SD) rewarding: 0.95(0.07), M(SD) punishing = 0.06(0.09), t= 39.460, p = 4.339094e-26, Cohen's d: 7.33\"\n",
      "[1] \"@th: M(SD) rewarding: 0.87(0.17), M(SD) punishing = 0.27(0.23), t= 9.878, p = 1.262472e-10, Cohen's d: 1.83\"\n",
      "[1] \"<th: M(SD) rewarding: 0.67(0.24), M(SD) punishing = 0.36(0.25), t= 4.508, p = 1.063942e-04, Cohen's d: 0.84\"\n",
      "[1] \"<<th: M(SD) rewarding: 0.49(0.25), M(SD) punishing = 0.41(0.22), t= 1.516, p = 1.407559e-01, Cohen's d: 0.28\"\n"
     ]
    }
   ],
   "source": [
    "# loop over visibility levels\n",
    "varlabels <-c(\">th\", \"@th\", \"<th\", \"<<th\")\n",
    "for (i in 1:4){\n",
    "  \n",
    "  # select data\n",
    "  var1 <- sc[sc$visibility==varlabels[i] & sc$reward==\"rewarding\", \"Pgo\"]\n",
    "  var2 <- sc[sc$visibility==varlabels[i] & sc$reward==\"punishing\", \"Pgo\"]\n",
    "  # do the t-test\n",
    "  result <- t.test(var1, var2, paired=TRUE)\n",
    "  \n",
    "  # calcualte cohen's d (mean differences/ standard deviations of mean differences)\n",
    "  cohensd <- mean(var1-var2)/sd(var1-var2)\n",
    "\n",
    "  # format the output\n",
    "  print(sprintf(\"%s: M(SD) rewarding: %.2f(%.2f), M(SD) punishing = %.2f(%.2f), t= %.3f, p = %e, Cohen\\'s d: %.2f\", varlabels[i],mean(var1), sd(var1), mean(var2), sd(var2), result$statistic, result$p.value, cohensd))\n",
    "}"
   ]
  }
 ],
 "metadata": {
  "anaconda-cloud": {},
  "kernelspec": {
   "display_name": "R",
   "language": "R",
   "name": "ir"
  },
  "language_info": {
   "codemirror_mode": "r",
   "file_extension": ".r",
   "mimetype": "text/x-r-source",
   "name": "R",
   "pygments_lexer": "r",
   "version": "3.4.0"
  }
 },
 "nbformat": 4,
 "nbformat_minor": 0
}
